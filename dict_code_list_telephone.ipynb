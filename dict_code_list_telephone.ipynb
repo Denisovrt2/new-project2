{
 "cells": [
  {
   "cell_type": "code",
   "execution_count": null,
   "id": "384b028a-84c5-456a-b718-cabc59d288fe",
   "metadata": {},
   "outputs": [],
   "source": [
    "telephone_book = {}\n",
    "\n",
    "for i in range(int(input())):\n",
    "    number, name = input().split(' ')\n",
    "    telephone_book[name] = telephone_book.get(name, '') + ' '+ number\n",
    "\n",
    "    \n",
    "for i in range(int(input())):\n",
    "    words = input().capitalize()\n",
    "    if words in telephone_book:\n",
    "        print(telephone_book[words].lstrip())\n",
    "    else:\n",
    "        print('абонента нет'.lstrip())"
   ]
  }
 ],
 "metadata": {
  "kernelspec": {
   "display_name": "Python 3 (ipykernel)",
   "language": "python",
   "name": "python3"
  },
  "language_info": {
   "codemirror_mode": {
    "name": "ipython",
    "version": 3
   },
   "file_extension": ".py",
   "mimetype": "text/x-python",
   "name": "python",
   "nbconvert_exporter": "python",
   "pygments_lexer": "ipython3",
   "version": "3.9.13"
  }
 },
 "nbformat": 4,
 "nbformat_minor": 5
}
